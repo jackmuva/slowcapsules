{
 "cells": [
  {
   "cell_type": "code",
   "execution_count": 1,
   "metadata": {},
   "outputs": [],
   "source": [
    "import requests"
   ]
  },
  {
   "cell_type": "code",
   "execution_count": 2,
   "metadata": {},
   "outputs": [],
   "source": [
    "reg_data = {\n",
    "    'username': 'test_username',\n",
    "    'email': 'test_email@test.com',\n",
    "    'password': 'test_password'\n",
    "}\n",
    "\n",
    "login_data = {\n",
    "    'usernameOrEmail': 'test_username',\n",
    "    'password': 'test_password'\n",
    "}"
   ]
  },
  {
   "cell_type": "code",
   "execution_count": 3,
   "metadata": {},
   "outputs": [],
   "source": [
    "reg_post = requests.post('http://localhost:8090/api/auth/register', json = reg_data)\n",
    "reg_post.status_code"
   ]
  },
  {
   "cell_type": "code",
   "execution_count": 9,
   "metadata": {},
   "outputs": [],
   "source": [
    "login_post = requests.post('http://localhost:8090/api/auth/login', json = login_data)\n",
    "login_post.status_code"
   ]
  },
  {
   "cell_type": "code",
   "execution_count": 18,
   "metadata": {},
   "outputs": [
    {
     "data": {
      "text/plain": [
       "401"
      ]
     },
     "execution_count": 18,
     "metadata": {},
     "output_type": "execute_result"
    }
   ],
   "source": [
    "writer_json = {\"email\":\"email_7\", \"penName\":\"maria\"}\n",
    "create_writer = requests.post('http://localhost:8090/api/writer/new', json = writer_json)\n",
    "create_writer.status_code"
   ]
  },
  {
   "cell_type": "code",
   "execution_count": 23,
   "metadata": {},
   "outputs": [
    {
     "data": {
      "text/plain": [
       "200"
      ]
     },
     "execution_count": 23,
     "metadata": {},
     "output_type": "execute_result"
    }
   ],
   "source": [
    "headersAuth = {\n",
    "    'Authorization': 'Bearer '+ login_post.json()['accessToken']\n",
    "}\n",
    "create_writer = requests.post('http://localhost:8090/api/writer/new', json = writer_json, headers = headersAuth)\n",
    "create_writer.status_code"
   ]
  },
  {
   "cell_type": "code",
   "execution_count": 26,
   "metadata": {},
   "outputs": [
    {
     "data": {
      "text/plain": [
       "401"
      ]
     },
     "execution_count": 26,
     "metadata": {},
     "output_type": "execute_result"
    }
   ],
   "source": [
    "post_id = 103\n",
    "delete_writer = requests.delete('http://localhost:8090/api/writer/delete/' + str(post_id))\n",
    "delete_writer.status_code"
   ]
  },
  {
   "cell_type": "code",
   "execution_count": 27,
   "metadata": {},
   "outputs": [
    {
     "data": {
      "text/plain": [
       "200"
      ]
     },
     "execution_count": 27,
     "metadata": {},
     "output_type": "execute_result"
    }
   ],
   "source": [
    "delete_writer = requests.delete('http://localhost:8090/api/writer/delete/' + str(post_id), headers = headersAuth)\n",
    "delete_writer.status_code"
   ]
  },
  {
   "cell_type": "code",
   "execution_count": null,
   "metadata": {},
   "outputs": [],
   "source": []
  }
 ],
 "metadata": {
  "kernelspec": {
   "display_name": "base",
   "language": "python",
   "name": "python3"
  },
  "language_info": {
   "codemirror_mode": {
    "name": "ipython",
    "version": 3
   },
   "file_extension": ".py",
   "mimetype": "text/x-python",
   "name": "python",
   "nbconvert_exporter": "python",
   "pygments_lexer": "ipython3",
   "version": "3.7.6"
  },
  "orig_nbformat": 4
 },
 "nbformat": 4,
 "nbformat_minor": 2
}
