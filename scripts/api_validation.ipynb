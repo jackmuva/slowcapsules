{
 "cells": [
  {
   "cell_type": "code",
   "execution_count": 7,
   "metadata": {},
   "outputs": [],
   "source": [
    "import requests"
   ]
  },
  {
   "cell_type": "markdown",
   "metadata": {},
   "source": [
    "Registering"
   ]
  },
  {
   "cell_type": "code",
   "execution_count": 8,
   "metadata": {},
   "outputs": [],
   "source": [
    "reg_data = {\n",
    "    'username': 'test_username',\n",
    "    'email': 'test_email@test.com',\n",
    "    'password': 'test_password'\n",
    "}\n",
    "\n",
    "login_data = {\n",
    "    'usernameOrEmail': 'test_email@test.com',\n",
    "    'password': 'test_password'\n",
    "}"
   ]
  },
  {
   "cell_type": "code",
   "execution_count": 9,
   "metadata": {},
   "outputs": [
    {
     "data": {
      "text/plain": [
       "401"
      ]
     },
     "execution_count": 9,
     "metadata": {},
     "output_type": "execute_result"
    }
   ],
   "source": [
    "reg_post = requests.post('http://localhost:8090/api/auth/register', json = reg_data)\n",
    "reg_post.status_code"
   ]
  },
  {
   "cell_type": "markdown",
   "metadata": {},
   "source": [
    "Logging in"
   ]
  },
  {
   "cell_type": "code",
   "execution_count": 10,
   "metadata": {},
   "outputs": [
    {
     "data": {
      "text/plain": [
       "200"
      ]
     },
     "execution_count": 10,
     "metadata": {},
     "output_type": "execute_result"
    }
   ],
   "source": [
    "login_post = requests.post('http://localhost:8090/api/auth/login', json = login_data)\n",
    "login_post.status_code"
   ]
  },
  {
   "cell_type": "code",
   "execution_count": 11,
   "metadata": {},
   "outputs": [],
   "source": [
    "headersAuth = {\n",
    "    'Authorization': 'Bearer '+ login_post.json()['accessToken']\n",
    "}"
   ]
  },
  {
   "cell_type": "markdown",
   "metadata": {},
   "source": [
    "Writer Endpoints"
   ]
  },
  {
   "cell_type": "code",
   "execution_count": 24,
   "metadata": {},
   "outputs": [
    {
     "data": {
      "text/plain": [
       "[{'writerId': 1, 'penName': 'jack', 'email': 'email_4'}]"
      ]
     },
     "execution_count": 24,
     "metadata": {},
     "output_type": "execute_result"
    }
   ],
   "source": [
    "get_writer = requests.get('http://localhost:8090/api/writer/get/jack')\n",
    "get_writer.json()"
   ]
  },
  {
   "cell_type": "code",
   "execution_count": 17,
   "metadata": {},
   "outputs": [
    {
     "data": {
      "text/plain": [
       "200"
      ]
     },
     "execution_count": 17,
     "metadata": {},
     "output_type": "execute_result"
    }
   ],
   "source": [
    "writer_json = {\"email\":\"test_email@test.com\", \"penName\":\"maria\"}\n",
    "create_writer = requests.post('http://localhost:8090/api/writer/new', json = writer_json)\n",
    "create_writer.status_code"
   ]
  },
  {
   "cell_type": "code",
   "execution_count": 18,
   "metadata": {},
   "outputs": [
    {
     "data": {
      "text/plain": [
       "401"
      ]
     },
     "execution_count": 18,
     "metadata": {},
     "output_type": "execute_result"
    }
   ],
   "source": [
    "#Unauthenticated User\n",
    "post_id = 1\n",
    "delete_writer = requests.delete('http://localhost:8090/api/writer/delete/' + str(post_id))\n",
    "delete_writer.status_code"
   ]
  },
  {
   "cell_type": "code",
   "execution_count": 19,
   "metadata": {},
   "outputs": [
    {
     "data": {
      "text/plain": [
       "400"
      ]
     },
     "execution_count": 19,
     "metadata": {},
     "output_type": "execute_result"
    }
   ],
   "source": [
    "#Deleting someone else's writer\n",
    "post_id = 1\n",
    "delete_writer = requests.delete('http://localhost:8090/api/writer/delete/' + str(post_id), headers = headersAuth)\n",
    "delete_writer.status_code"
   ]
  },
  {
   "cell_type": "code",
   "execution_count": 20,
   "metadata": {},
   "outputs": [
    {
     "data": {
      "text/plain": [
       "200"
      ]
     },
     "execution_count": 20,
     "metadata": {},
     "output_type": "execute_result"
    }
   ],
   "source": [
    "post_id = 352\n",
    "delete_writer = requests.delete('http://localhost:8090/api/writer/delete/' + str(post_id), headers = headersAuth)\n",
    "delete_writer.status_code"
   ]
  },
  {
   "cell_type": "markdown",
   "metadata": {},
   "source": [
    "Subscription Endpoints"
   ]
  },
  {
   "cell_type": "code",
   "execution_count": 28,
   "metadata": {},
   "outputs": [
    {
     "data": {
      "text/plain": [
       "401"
      ]
     },
     "execution_count": 28,
     "metadata": {},
     "output_type": "execute_result"
    }
   ],
   "source": [
    "get_subscription = requests.get('http://localhost:8090/api/subscription/getAll')\n",
    "get_subscription.status_code"
   ]
  },
  {
   "cell_type": "code",
   "execution_count": 31,
   "metadata": {},
   "outputs": [
    {
     "data": {
      "text/plain": [
       "200"
      ]
     },
     "execution_count": 31,
     "metadata": {},
     "output_type": "execute_result"
    }
   ],
   "source": [
    "sub_json = {\"articleNum\":\"3\", \"sendDate\":\"2023-03-19\", \"seriesId\":\"4\", \"subscriberEmail\":\"email_4\"}\n",
    "subscribe = requests.post('http://localhost:8090/api/subscription/new', json = sub_json)\n",
    "subscribe.status_code"
   ]
  },
  {
   "cell_type": "code",
   "execution_count": 32,
   "metadata": {},
   "outputs": [
    {
     "data": {
      "text/plain": [
       "200"
      ]
     },
     "execution_count": 32,
     "metadata": {},
     "output_type": "execute_result"
    }
   ],
   "source": [
    "\n",
    "cancel = requests.delete('http://localhost:8090/api/subscription/cancelSubscription/email_4/4')\n",
    "cancel.status_code"
   ]
  },
  {
   "cell_type": "markdown",
   "metadata": {},
   "source": [
    "Series Endpoints"
   ]
  },
  {
   "cell_type": "code",
   "execution_count": 33,
   "metadata": {},
   "outputs": [
    {
     "data": {
      "text/plain": [
       "400"
      ]
     },
     "execution_count": 33,
     "metadata": {},
     "output_type": "execute_result"
    }
   ],
   "source": [
    "#Creating a series on someone else's account\n",
    "series_json = {\"datetime\":\"2022-03-01T21:34:55\",\"numEntries\":\"4\",\"title\":\"ugh\",\"summary\":\"fuuuu\",\"tags\":\"fthis\",\"cadence\":\"7\",\"penName\":\"jack\",\"email\":'email_1'}\n",
    "new_series = requests.post('http://localhost:8090/api/series/new', json = series_json, headers = headersAuth)\n",
    "new_series.status_code"
   ]
  },
  {
   "cell_type": "code",
   "execution_count": 34,
   "metadata": {},
   "outputs": [
    {
     "data": {
      "text/plain": [
       "401"
      ]
     },
     "execution_count": 34,
     "metadata": {},
     "output_type": "execute_result"
    }
   ],
   "source": [
    "#No auth\n",
    "series_json = {\"datetime\":\"2022-03-01T21:34:55\",\"numEntries\":\"4\",\"title\":\"ugh\",\"summary\":\"fuuuu\",\"tags\":\"fthis\",\"cadence\":\"7\",\"penName\":\"jack\",\"email\":'email_1'}\n",
    "new_series = requests.post('http://localhost:8090/api/series/new', json = series_json)\n",
    "new_series.status_code"
   ]
  },
  {
   "cell_type": "code",
   "execution_count": 36,
   "metadata": {},
   "outputs": [
    {
     "data": {
      "text/plain": [
       "200"
      ]
     },
     "execution_count": 36,
     "metadata": {},
     "output_type": "execute_result"
    }
   ],
   "source": [
    "series_json = {\"datetime\":\"2022-03-01T21:34:55\",\"numEntries\":\"4\",\"title\":\"ugh\",\"summary\":\"fuuuu\",\"tags\":\"fthis\",\"cadence\":\"7\",\"penName\":\"jack\",\"email\":'test_email@test.com'}\n",
    "new_series = requests.post('http://localhost:8090/api/series/new', json = series_json, headers=headersAuth)\n",
    "new_series.status_code"
   ]
  },
  {
   "cell_type": "code",
   "execution_count": 41,
   "metadata": {},
   "outputs": [
    {
     "data": {
      "text/plain": [
       "401"
      ]
     },
     "execution_count": 41,
     "metadata": {},
     "output_type": "execute_result"
    }
   ],
   "source": [
    "#No auth\n",
    "series_id = 102\n",
    "del_series = requests.delete('http://localhost:8090/api/series/delete/' + str(series_id))\n",
    "del_series.status_code"
   ]
  },
  {
   "cell_type": "code",
   "execution_count": 42,
   "metadata": {},
   "outputs": [
    {
     "data": {
      "text/plain": [
       "400"
      ]
     },
     "execution_count": 42,
     "metadata": {},
     "output_type": "execute_result"
    }
   ],
   "source": [
    "#Delete someone else's series\n",
    "series_id = 1\n",
    "del_series = requests.delete('http://localhost:8090/api/series/delete/' + str(series_id), headers = headersAuth)\n",
    "del_series.status_code"
   ]
  },
  {
   "cell_type": "code",
   "execution_count": 43,
   "metadata": {},
   "outputs": [
    {
     "data": {
      "text/plain": [
       "200"
      ]
     },
     "execution_count": 43,
     "metadata": {},
     "output_type": "execute_result"
    }
   ],
   "source": [
    "series_id = 102\n",
    "del_series = requests.delete('http://localhost:8090/api/series/delete/' + str(series_id), headers = headersAuth)\n",
    "del_series.status_code"
   ]
  },
  {
   "cell_type": "code",
   "execution_count": 45,
   "metadata": {},
   "outputs": [
    {
     "data": {
      "text/plain": [
       "[{'seriesId': 3,\n",
       "  'datetime': [2022, 3, 1, 0, 0],\n",
       "  'numEntries': 2,\n",
       "  'title': 'title-3',\n",
       "  'summary': 'summary-3',\n",
       "  'tags': 'sports',\n",
       "  'cadence': 7,\n",
       "  'penName': 'john',\n",
       "  'email': 'email_3'},\n",
       " {'seriesId': 2,\n",
       "  'datetime': [2022, 2, 1, 0, 0],\n",
       "  'numEntries': 5,\n",
       "  'title': 'title-2',\n",
       "  'summary': 'summary-2',\n",
       "  'tags': 'data science',\n",
       "  'cadence': 2,\n",
       "  'penName': 'matt',\n",
       "  'email': 'email_2'},\n",
       " {'seriesId': 1,\n",
       "  'datetime': [2022, 1, 1, 0, 0],\n",
       "  'numEntries': 3,\n",
       "  'title': 'title-1',\n",
       "  'summary': 'summary-1',\n",
       "  'tags': 'poetry',\n",
       "  'cadence': 1,\n",
       "  'penName': 'jack',\n",
       "  'email': 'email_1'}]"
      ]
     },
     "execution_count": 45,
     "metadata": {},
     "output_type": "execute_result"
    }
   ],
   "source": [
    "get_newest = requests.get('http://localhost:8090/api/series/getNewest')\n",
    "get_newest.json()"
   ]
  },
  {
   "cell_type": "code",
   "execution_count": 46,
   "metadata": {},
   "outputs": [
    {
     "data": {
      "text/plain": [
       "[{'seriesId': 1,\n",
       "  'datetime': [2022, 1, 1, 0, 0],\n",
       "  'numEntries': 3,\n",
       "  'title': 'title-1',\n",
       "  'summary': 'summary-1',\n",
       "  'tags': 'poetry',\n",
       "  'cadence': 1,\n",
       "  'penName': 'jack',\n",
       "  'email': 'email_1'},\n",
       " {'seriesId': 3,\n",
       "  'datetime': [2022, 3, 1, 0, 0],\n",
       "  'numEntries': 2,\n",
       "  'title': 'title-3',\n",
       "  'summary': 'summary-3',\n",
       "  'tags': 'sports',\n",
       "  'cadence': 7,\n",
       "  'penName': 'john',\n",
       "  'email': 'email_3'}]"
      ]
     },
     "execution_count": 46,
     "metadata": {},
     "output_type": "execute_result"
    }
   ],
   "source": [
    "get_search = requests.get('http://localhost:8090/api/series/search/j')\n",
    "get_search.json()"
   ]
  },
  {
   "cell_type": "markdown",
   "metadata": {},
   "source": [
    "Entry Endpoints"
   ]
  },
  {
   "cell_type": "code",
   "execution_count": 48,
   "metadata": {},
   "outputs": [
    {
     "data": {
      "text/plain": [
       "401"
      ]
     },
     "execution_count": 48,
     "metadata": {},
     "output_type": "execute_result"
    }
   ],
   "source": [
    "#no auth\n",
    "entry_json = {\"entryText\":\"abc\",\"orderNum\":\"1\",\"seriesId\":\"4\",\"email\":\"email_1\"}\n",
    "new_entry = requests.post('http://localhost:8090/api/entry/new', json = entry_json)\n",
    "new_entry.status_code"
   ]
  },
  {
   "cell_type": "code",
   "execution_count": 49,
   "metadata": {},
   "outputs": [
    {
     "data": {
      "text/plain": [
       "400"
      ]
     },
     "execution_count": 49,
     "metadata": {},
     "output_type": "execute_result"
    }
   ],
   "source": [
    "#entry in someone else's account\n",
    "entry_json = {\"entryText\":\"abc\",\"orderNum\":\"1\",\"seriesId\":\"4\",\"email\":\"email_1\"}\n",
    "new_entry = requests.post('http://localhost:8090/api/entry/new', json = entry_json, headers=headersAuth)\n",
    "new_entry.status_code"
   ]
  },
  {
   "cell_type": "code",
   "execution_count": 50,
   "metadata": {},
   "outputs": [
    {
     "data": {
      "text/plain": [
       "200"
      ]
     },
     "execution_count": 50,
     "metadata": {},
     "output_type": "execute_result"
    }
   ],
   "source": [
    "entry_json = {\"entryText\":\"abc\",\"orderNum\":\"1\",\"seriesId\":\"4\",\"email\":\"test_email@test.com\"}\n",
    "new_entry = requests.post('http://localhost:8090/api/entry/new', json = entry_json, headers=headersAuth)\n",
    "new_entry.status_code"
   ]
  },
  {
   "cell_type": "code",
   "execution_count": 55,
   "metadata": {},
   "outputs": [
    {
     "data": {
      "text/plain": [
       "400"
      ]
     },
     "execution_count": 55,
     "metadata": {},
     "output_type": "execute_result"
    }
   ],
   "source": [
    "#deleting someone else's entry\n",
    "del_entry = requests.delete('http://localhost:8090/api/entry/delete/1', headers=headersAuth)\n",
    "del_entry.status_code"
   ]
  },
  {
   "cell_type": "code",
   "execution_count": 57,
   "metadata": {},
   "outputs": [
    {
     "data": {
      "text/plain": [
       "200"
      ]
     },
     "execution_count": 57,
     "metadata": {},
     "output_type": "execute_result"
    }
   ],
   "source": [
    "entry_id = 102\n",
    "del_entry = requests.delete('http://localhost:8090/api/entry/delete/' + str(entry_id), headers=headersAuth)\n",
    "del_entry.status_code"
   ]
  },
  {
   "cell_type": "code",
   "execution_count": 58,
   "metadata": {},
   "outputs": [
    {
     "data": {
      "text/plain": [
       "[{'entryId': 1,\n",
       "  'seriesId': 1,\n",
       "  'entryText': 'a',\n",
       "  'orderNum': 1,\n",
       "  'email': 'email_1'},\n",
       " {'entryId': 2,\n",
       "  'seriesId': 1,\n",
       "  'entryText': 'b',\n",
       "  'orderNum': 2,\n",
       "  'email': 'email_1'},\n",
       " {'entryId': 3,\n",
       "  'seriesId': 1,\n",
       "  'entryText': 'c',\n",
       "  'orderNum': 3,\n",
       "  'email': 'email_1'}]"
      ]
     },
     "execution_count": 58,
     "metadata": {},
     "output_type": "execute_result"
    }
   ],
   "source": [
    "get_entries = requests.get('http://localhost:8090/api/entry/getBySeries/1')\n",
    "get_entries.json()"
   ]
  },
  {
   "cell_type": "code",
   "execution_count": null,
   "metadata": {},
   "outputs": [],
   "source": []
  }
 ],
 "metadata": {
  "kernelspec": {
   "display_name": "base",
   "language": "python",
   "name": "python3"
  },
  "language_info": {
   "codemirror_mode": {
    "name": "ipython",
    "version": 3
   },
   "file_extension": ".py",
   "mimetype": "text/x-python",
   "name": "python",
   "nbconvert_exporter": "python",
   "pygments_lexer": "ipython3",
   "version": "3.7.6"
  },
  "orig_nbformat": 4
 },
 "nbformat": 4,
 "nbformat_minor": 2
}
